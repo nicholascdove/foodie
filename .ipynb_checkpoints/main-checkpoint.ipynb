{
 "cells": [
  {
   "cell_type": "code",
   "execution_count": 2,
   "id": "ee4e7e0d-811d-45fb-b7e6-10a525cc6ff1",
   "metadata": {},
   "outputs": [
    {
     "name": "stdout",
     "output_type": "stream",
     "text": [
      "Collecting pandas\n",
      "  Obtaining dependency information for pandas from https://files.pythonhosted.org/packages/30/6f/910f62af8642c94acca4fff529944c1e9463cf118742f7ee1a583fc6449c/pandas-2.1.1-cp311-cp311-macosx_10_9_x86_64.whl.metadata\n",
      "  Downloading pandas-2.1.1-cp311-cp311-macosx_10_9_x86_64.whl.metadata (18 kB)\n",
      "Collecting numpy>=1.23.2 (from pandas)\n",
      "  Obtaining dependency information for numpy>=1.23.2 from https://files.pythonhosted.org/packages/d2/2f/b42860931c1479714201495ffe47d74460a916ae426a21fc9b68c5e329aa/numpy-1.26.0-cp311-cp311-macosx_10_9_x86_64.whl.metadata\n",
      "  Downloading numpy-1.26.0-cp311-cp311-macosx_10_9_x86_64.whl.metadata (53 kB)\n",
      "\u001b[2K     \u001b[90m━━━━━━━━━━━━━━━━━━━━━━━━━━━━━━━━━━━━━━━\u001b[0m \u001b[32m53.5/53.5 kB\u001b[0m \u001b[31m905.6 kB/s\u001b[0m eta \u001b[36m0:00:00\u001b[0m \u001b[36m0:00:01\u001b[0m\n",
      "\u001b[?25hRequirement already satisfied: python-dateutil>=2.8.2 in /Users/ndove/.local/share/virtualenvs/foodie-yhk6Fy-1/lib/python3.11/site-packages (from pandas) (2.8.2)\n",
      "Collecting pytz>=2020.1 (from pandas)\n",
      "  Obtaining dependency information for pytz>=2020.1 from https://files.pythonhosted.org/packages/32/4d/aaf7eff5deb402fd9a24a1449a8119f00d74ae9c2efa79f8ef9994261fc2/pytz-2023.3.post1-py2.py3-none-any.whl.metadata\n",
      "  Downloading pytz-2023.3.post1-py2.py3-none-any.whl.metadata (22 kB)\n",
      "Collecting tzdata>=2022.1 (from pandas)\n",
      "  Using cached tzdata-2023.3-py2.py3-none-any.whl (341 kB)\n",
      "Requirement already satisfied: six>=1.5 in /Users/ndove/.local/share/virtualenvs/foodie-yhk6Fy-1/lib/python3.11/site-packages (from python-dateutil>=2.8.2->pandas) (1.16.0)\n",
      "Downloading pandas-2.1.1-cp311-cp311-macosx_10_9_x86_64.whl (11.6 MB)\n",
      "\u001b[2K   \u001b[90m━━━━━━━━━━━━━━━━━━━━━━━━━━━━━━━━━━━━━━━━\u001b[0m \u001b[32m11.6/11.6 MB\u001b[0m \u001b[31m7.3 MB/s\u001b[0m eta \u001b[36m0:00:00\u001b[0m00:01\u001b[0m00:01\u001b[0m\n",
      "\u001b[?25hDownloading numpy-1.26.0-cp311-cp311-macosx_10_9_x86_64.whl (20.6 MB)\n",
      "\u001b[2K   \u001b[90m━━━━━━━━━━━━━━━━━━━━━━━━━━━━━━━━━━━━━━━━\u001b[0m \u001b[32m20.6/20.6 MB\u001b[0m \u001b[31m6.1 MB/s\u001b[0m eta \u001b[36m0:00:00\u001b[0m00:01\u001b[0m00:01\u001b[0m\n",
      "\u001b[?25hUsing cached pytz-2023.3.post1-py2.py3-none-any.whl (502 kB)\n",
      "Installing collected packages: pytz, tzdata, numpy, pandas\n",
      "Successfully installed numpy-1.26.0 pandas-2.1.1 pytz-2023.3.post1 tzdata-2023.3\n",
      "Note: you may need to restart the kernel to use updated packages.\n"
     ]
    }
   ],
   "source": [
    "pip install pandas"
   ]
  },
  {
   "cell_type": "code",
   "execution_count": 6,
   "id": "08089b49-b1ce-4fc2-8c5c-f26d8b4de2be",
   "metadata": {},
   "outputs": [
    {
     "name": "stdout",
     "output_type": "stream",
     "text": [
      "Collecting pyarrow\n",
      "  Obtaining dependency information for pyarrow from https://files.pythonhosted.org/packages/9d/7e/026be3d56c930bfc3557a42baebfe7c10c4e32ea7db7861f4b40e54adf1e/pyarrow-13.0.0-cp311-cp311-macosx_10_14_x86_64.whl.metadata\n",
      "  Downloading pyarrow-13.0.0-cp311-cp311-macosx_10_14_x86_64.whl.metadata (3.0 kB)\n",
      "Requirement already satisfied: numpy>=1.16.6 in /Users/ndove/.local/share/virtualenvs/foodie-yhk6Fy-1/lib/python3.11/site-packages (from pyarrow) (1.26.0)\n",
      "Downloading pyarrow-13.0.0-cp311-cp311-macosx_10_14_x86_64.whl (25.8 MB)\n",
      "\u001b[2K   \u001b[90m━━━━━━━━━━━━━━━━━━━━━━━━━━━━━━━━━━━━━━━━\u001b[0m \u001b[32m25.8/25.8 MB\u001b[0m \u001b[31m6.4 MB/s\u001b[0m eta \u001b[36m0:00:00\u001b[0m00:01\u001b[0m00:01\u001b[0m\n",
      "\u001b[?25hInstalling collected packages: pyarrow\n",
      "Successfully installed pyarrow-13.0.0\n",
      "Note: you may need to restart the kernel to use updated packages.\n"
     ]
    }
   ],
   "source": [
    "pip install pyarrow"
   ]
  },
  {
   "cell_type": "code",
   "execution_count": 7,
   "id": "8adea4e5-5050-451f-bad1-6357193204a0",
   "metadata": {},
   "outputs": [
    {
     "name": "stdout",
     "output_type": "stream",
     "text": [
      "Collecting fastparquet\n",
      "  Obtaining dependency information for fastparquet from https://files.pythonhosted.org/packages/47/63/84e7923a15ec7837f1fe45c8cc6f38d00fbc7918256dfc153d7d9214f007/fastparquet-2023.8.0-cp311-cp311-macosx_10_9_universal2.whl.metadata\n",
      "  Downloading fastparquet-2023.8.0-cp311-cp311-macosx_10_9_universal2.whl.metadata (4.1 kB)\n",
      "Requirement already satisfied: pandas>=1.5.0 in /Users/ndove/.local/share/virtualenvs/foodie-yhk6Fy-1/lib/python3.11/site-packages (from fastparquet) (2.1.1)\n",
      "Requirement already satisfied: numpy>=1.20.3 in /Users/ndove/.local/share/virtualenvs/foodie-yhk6Fy-1/lib/python3.11/site-packages (from fastparquet) (1.26.0)\n",
      "Collecting cramjam>=2.3 (from fastparquet)\n",
      "  Obtaining dependency information for cramjam>=2.3 from https://files.pythonhosted.org/packages/58/8a/7f8b283bb29713fb9c0d548b9d6cbe2f48da05084bdf721b7aa4a399b639/cramjam-2.7.0-cp311-cp311-macosx_10_9_x86_64.macosx_11_0_arm64.macosx_10_9_universal2.whl.metadata\n",
      "  Downloading cramjam-2.7.0-cp311-cp311-macosx_10_9_x86_64.macosx_11_0_arm64.macosx_10_9_universal2.whl.metadata (4.0 kB)\n",
      "Collecting fsspec (from fastparquet)\n",
      "  Obtaining dependency information for fsspec from https://files.pythonhosted.org/packages/fe/d3/e1aa96437d944fbb9cc95d0316e25583886e9cd9e6adc07baad943524eda/fsspec-2023.9.2-py3-none-any.whl.metadata\n",
      "  Downloading fsspec-2023.9.2-py3-none-any.whl.metadata (6.7 kB)\n",
      "Requirement already satisfied: packaging in /Users/ndove/.local/share/virtualenvs/foodie-yhk6Fy-1/lib/python3.11/site-packages (from fastparquet) (23.1)\n",
      "Requirement already satisfied: python-dateutil>=2.8.2 in /Users/ndove/.local/share/virtualenvs/foodie-yhk6Fy-1/lib/python3.11/site-packages (from pandas>=1.5.0->fastparquet) (2.8.2)\n",
      "Requirement already satisfied: pytz>=2020.1 in /Users/ndove/.local/share/virtualenvs/foodie-yhk6Fy-1/lib/python3.11/site-packages (from pandas>=1.5.0->fastparquet) (2023.3.post1)\n",
      "Requirement already satisfied: tzdata>=2022.1 in /Users/ndove/.local/share/virtualenvs/foodie-yhk6Fy-1/lib/python3.11/site-packages (from pandas>=1.5.0->fastparquet) (2023.3)\n",
      "Requirement already satisfied: six>=1.5 in /Users/ndove/.local/share/virtualenvs/foodie-yhk6Fy-1/lib/python3.11/site-packages (from python-dateutil>=2.8.2->pandas>=1.5.0->fastparquet) (1.16.0)\n",
      "Downloading fastparquet-2023.8.0-cp311-cp311-macosx_10_9_universal2.whl (910 kB)\n",
      "\u001b[2K   \u001b[90m━━━━━━━━━━━━━━━━━━━━━━━━━━━━━━━━━━━━━━━━\u001b[0m \u001b[32m910.1/910.1 kB\u001b[0m \u001b[31m4.9 MB/s\u001b[0m eta \u001b[36m0:00:00\u001b[0ma \u001b[36m0:00:01\u001b[0m\n",
      "\u001b[?25hDownloading cramjam-2.7.0-cp311-cp311-macosx_10_9_x86_64.macosx_11_0_arm64.macosx_10_9_universal2.whl (3.2 MB)\n",
      "\u001b[2K   \u001b[90m━━━━━━━━━━━━━━━━━━━━━━━━━━━━━━━━━━━━━━━━\u001b[0m \u001b[32m3.2/3.2 MB\u001b[0m \u001b[31m6.4 MB/s\u001b[0m eta \u001b[36m0:00:00\u001b[0m00:01\u001b[0m00:01\u001b[0m\n",
      "\u001b[?25hDownloading fsspec-2023.9.2-py3-none-any.whl (173 kB)\n",
      "\u001b[2K   \u001b[90m━━━━━━━━━━━━━━━━━━━━━━━━━━━━━━━━━━━━━━━━\u001b[0m \u001b[32m173.4/173.4 kB\u001b[0m \u001b[31m4.8 MB/s\u001b[0m eta \u001b[36m0:00:00\u001b[0m\n",
      "\u001b[?25hInstalling collected packages: fsspec, cramjam, fastparquet\n",
      "Successfully installed cramjam-2.7.0 fastparquet-2023.8.0 fsspec-2023.9.2\n",
      "Note: you may need to restart the kernel to use updated packages.\n"
     ]
    }
   ],
   "source": [
    "pip install fastparquet"
   ]
  },
  {
   "cell_type": "code",
   "execution_count": 8,
   "id": "480567e4-d151-4cca-81e9-052cffec0ee8",
   "metadata": {},
   "outputs": [],
   "source": [
    "import pandas as pd\n",
    "import pyarrow\n",
    "import fastparquet"
   ]
  },
  {
   "cell_type": "code",
   "execution_count": 12,
   "id": "cdc36e94-ba2e-48b3-8eab-0a037abf5e0e",
   "metadata": {},
   "outputs": [],
   "source": [
    "data = pd.read_parquet('recipes.parquet')"
   ]
  },
  {
   "cell_type": "code",
   "execution_count": 13,
   "id": "8ad57cb4-283b-4098-acd4-84a5ac1b1399",
   "metadata": {},
   "outputs": [
    {
     "name": "stdout",
     "output_type": "stream",
     "text": [
      "<class 'pandas.core.frame.DataFrame'>\n",
      "RangeIndex: 522517 entries, 0 to 522516\n",
      "Data columns (total 28 columns):\n",
      " #   Column                      Non-Null Count   Dtype              \n",
      "---  ------                      --------------   -----              \n",
      " 0   RecipeId                    522517 non-null  float64            \n",
      " 1   Name                        522517 non-null  object             \n",
      " 2   AuthorId                    522517 non-null  int32              \n",
      " 3   AuthorName                  522517 non-null  object             \n",
      " 4   CookTime                    439972 non-null  object             \n",
      " 5   PrepTime                    522517 non-null  object             \n",
      " 6   TotalTime                   522517 non-null  object             \n",
      " 7   DatePublished               522517 non-null  datetime64[us, UTC]\n",
      " 8   Description                 522512 non-null  object             \n",
      " 9   Images                      522516 non-null  object             \n",
      " 10  RecipeCategory              521766 non-null  object             \n",
      " 11  Keywords                    522517 non-null  object             \n",
      " 12  RecipeIngredientQuantities  522517 non-null  object             \n",
      " 13  RecipeIngredientParts       522517 non-null  object             \n",
      " 14  AggregatedRating            269294 non-null  float64            \n",
      " 15  ReviewCount                 275028 non-null  float64            \n",
      " 16  Calories                    522517 non-null  float64            \n",
      " 17  FatContent                  522517 non-null  float64            \n",
      " 18  SaturatedFatContent         522517 non-null  float64            \n",
      " 19  CholesterolContent          522517 non-null  float64            \n",
      " 20  SodiumContent               522517 non-null  float64            \n",
      " 21  CarbohydrateContent         522517 non-null  float64            \n",
      " 22  FiberContent                522517 non-null  float64            \n",
      " 23  SugarContent                522517 non-null  float64            \n",
      " 24  ProteinContent              522517 non-null  float64            \n",
      " 25  RecipeServings              339606 non-null  float64            \n",
      " 26  RecipeYield                 174446 non-null  object             \n",
      " 27  RecipeInstructions          522517 non-null  object             \n",
      "dtypes: datetime64[us, UTC](1), float64(13), int32(1), object(13)\n",
      "memory usage: 109.6+ MB\n"
     ]
    }
   ],
   "source": [
    "data.info()"
   ]
  },
  {
   "cell_type": "code",
   "execution_count": 14,
   "id": "1910d2fe-918c-46f3-a529-7b3d36f35ec9",
   "metadata": {},
   "outputs": [
    {
     "data": {
      "text/plain": [
       "0    [blueberries, granulated sugar, vanilla yogurt...\n",
       "1    [saffron, milk, hot green chili peppers, onion...\n",
       "2    [sugar, lemons, rind of, lemon, zest of, fresh...\n",
       "3    [extra firm tofu, eggplant, zucchini, mushroom...\n",
       "4    [plain tomato juice, cabbage, onion, carrots, ...\n",
       "Name: RecipeIngredientParts, dtype: object"
      ]
     },
     "execution_count": 14,
     "metadata": {},
     "output_type": "execute_result"
    }
   ],
   "source": [
    "data.RecipeIngredientParts.head()"
   ]
  },
  {
   "cell_type": "code",
   "execution_count": null,
   "id": "e612b3c2-0ac4-40d0-82a5-ebd6d2bcc92a",
   "metadata": {},
   "outputs": [],
   "source": []
  }
 ],
 "metadata": {
  "kernelspec": {
   "display_name": "Python 3 (ipykernel)",
   "language": "python",
   "name": "python3"
  },
  "language_info": {
   "codemirror_mode": {
    "name": "ipython",
    "version": 3
   },
   "file_extension": ".py",
   "mimetype": "text/x-python",
   "name": "python",
   "nbconvert_exporter": "python",
   "pygments_lexer": "ipython3",
   "version": "3.11.5"
  }
 },
 "nbformat": 4,
 "nbformat_minor": 5
}
